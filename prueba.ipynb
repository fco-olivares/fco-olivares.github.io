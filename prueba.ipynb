{
 "cells": [
  {
   "cell_type": "code",
   "execution_count": 6,
   "metadata": {},
   "outputs": [],
   "source": [
    "%load_ext cudf.pandas\n",
    "import pandas as pd\n",
    "\n",
    "\n",
    "\n",
    "data = \"/mnt/c/Users/Francisco/Downloads/printed+circuit+board+processed+image/TestPad_PCB_XYRGB_V2.csv\""
   ]
  },
  {
   "cell_type": "code",
   "execution_count": 32,
   "metadata": {},
   "outputs": [
    {
     "name": "stdout",
     "output_type": "stream",
     "text": [
      "         X         R         G         B  Grey\n",
      "Y                                             \n",
      "0    482.0  0.200831  0.457006  0.321200   0.0\n",
      "1    482.5  0.190607  0.454325  0.315775   0.0\n",
      "2    482.5  0.174317  0.451412  0.306943   0.0\n",
      "3    482.5  0.154918  0.448016  0.298039   0.0\n",
      "4    482.5  0.136693  0.446466  0.288152   0.0\n",
      "..     ...       ...       ...       ...   ...\n",
      "774  482.5  0.274376  0.602111  0.382832   0.0\n",
      "775  482.5  0.350887  0.654865  0.453108   0.0\n",
      "776  482.5  0.436467  0.714282  0.529420   0.0\n",
      "777  482.5  0.509301  0.765737  0.595770   0.0\n",
      "778  482.5  0.555629  0.797361  0.640275   0.0\n",
      "\n",
      "[779 rows x 5 columns]\n"
     ]
    }
   ],
   "source": [
    "tips_df = pd.read_csv(\"/mnt/c/Users/Francisco/Downloads/printed+circuit+board+processed+image/TestPad_PCB_XYRGB_V2.csv\")\n",
    "\n",
    "# display average tip by dining party size\n",
    "print(tips_df.groupby(\"Y\").mean())"
   ]
  },
  {
   "cell_type": "code",
   "execution_count": 33,
   "metadata": {},
   "outputs": [
    {
     "name": "stdout",
     "output_type": "stream",
     "text": [
      "         X         R         G         B  Grey\n",
      "Y                                             \n",
      "0    482.0  0.200831  0.457006  0.321200   0.0\n",
      "1    482.5  0.190607  0.454325  0.315775   0.0\n",
      "2    482.5  0.174317  0.451412  0.306943   0.0\n",
      "3    482.5  0.154918  0.448016  0.298039   0.0\n",
      "4    482.5  0.136693  0.446466  0.288152   0.0\n",
      "..     ...       ...       ...       ...   ...\n",
      "774  482.5  0.274376  0.602111  0.382832   0.0\n",
      "775  482.5  0.350887  0.654865  0.453108   0.0\n",
      "776  482.5  0.436467  0.714282  0.529420   0.0\n",
      "777  482.5  0.509301  0.765737  0.595770   0.0\n",
      "778  482.5  0.555629  0.797361  0.640275   0.0\n",
      "\n",
      "[779 rows x 5 columns]\n"
     ]
    }
   ],
   "source": []
  }
 ],
 "metadata": {
  "kernelspec": {
   "display_name": "rapids-24.06",
   "language": "python",
   "name": "python3"
  },
  "language_info": {
   "codemirror_mode": {
    "name": "ipython",
    "version": 3
   },
   "file_extension": ".py",
   "mimetype": "text/x-python",
   "name": "python",
   "nbconvert_exporter": "python",
   "pygments_lexer": "ipython3",
   "version": "3.11.9"
  }
 },
 "nbformat": 4,
 "nbformat_minor": 2
}
